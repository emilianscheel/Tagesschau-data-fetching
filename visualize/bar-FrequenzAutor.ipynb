{
 "cells": [
  {
   "cell_type": "code",
   "execution_count": 8,
   "metadata": {},
   "outputs": [],
   "source": [
    "import numpy as np\n",
    "import pandas as pd\n",
    "import matplotlib.pyplot as plt\n",
    "\n",
    "df = pd.read_json('../data/database-27-10.json')"
   ]
  },
  {
   "cell_type": "code",
   "execution_count": 9,
   "metadata": {},
   "outputs": [],
   "source": [
    "authors = df.groupby(['author']).size().reset_index(name=\"amount\").sort_values(\"amount\", ascending=False)"
   ]
  },
  {
   "cell_type": "code",
   "execution_count": 10,
   "metadata": {},
   "outputs": [],
   "source": [
    "authors.head(10)"
   ]
  },
  {
   "cell_type": "code",
   "execution_count": 14,
   "metadata": {},
   "outputs": [],
   "source": [
    "# Filter nach den Artikeln eines Autors\n",
    "df = df.loc[(df['author'] == 'Kai Küstner')]"
   ]
  },
  {
   "cell_type": "code",
   "execution_count": 15,
   "metadata": {},
   "outputs": [],
   "source": [
    "# Lösche time von datetime\n",
    "df['date'] = df['date'].dt.normalize()"
   ]
  },
  {
   "cell_type": "code",
   "execution_count": 16,
   "metadata": {},
   "outputs": [],
   "source": [
    "# Zähle die Artikel\n",
    "df = df.groupby(['date', 'author']).size().reset_index(name=\"amount\").sort_values(\"amount\")"
   ]
  },
  {
   "cell_type": "code",
   "execution_count": 17,
   "metadata": {},
   "outputs": [],
   "source": [
    "# Bestimme den Startpunkt (Datum des ersten Artikel) bis zum Endpunkt (Datum des letzten Artikels)\n",
    "min = df['date'].min()\n",
    "max = df['date'].max()"
   ]
  },
  {
   "cell_type": "code",
   "execution_count": 18,
   "metadata": {},
   "outputs": [],
   "source": [
    "mapping = dict(zip(df['date'], df['amount']))"
   ]
  },
  {
   "cell_type": "code",
   "execution_count": 19,
   "metadata": {},
   "outputs": [
    {
     "ename": "ValueError",
     "evalue": "Neither `start` nor `end` can be NaT",
     "output_type": "error",
     "traceback": [
      "\u001b[0;31m---------------------------------------------------------------------------\u001b[0m",
      "\u001b[0;31mValueError\u001b[0m                                Traceback (most recent call last)",
      "Cell \u001b[0;32mIn [19], line 1\u001b[0m\n\u001b[0;32m----> 1\u001b[0m df \u001b[39m=\u001b[39m pd\u001b[39m.\u001b[39mDataFrame({\u001b[39m'\u001b[39m\u001b[39mdate\u001b[39m\u001b[39m'\u001b[39m: pd\u001b[39m.\u001b[39;49mdate_range(\u001b[39mmin\u001b[39;49m, \u001b[39mmax\u001b[39;49m, freq\u001b[39m=\u001b[39;49m\u001b[39m'\u001b[39;49m\u001b[39mD\u001b[39;49m\u001b[39m'\u001b[39;49m)})\n",
      "File \u001b[0;32m/opt/homebrew/lib/python3.10/site-packages/pandas/core/indexes/datetimes.py:1125\u001b[0m, in \u001b[0;36mdate_range\u001b[0;34m(start, end, periods, freq, tz, normalize, name, closed, inclusive, **kwargs)\u001b[0m\n\u001b[1;32m   1122\u001b[0m \u001b[39mif\u001b[39;00m freq \u001b[39mis\u001b[39;00m \u001b[39mNone\u001b[39;00m \u001b[39mand\u001b[39;00m com\u001b[39m.\u001b[39many_none(periods, start, end):\n\u001b[1;32m   1123\u001b[0m     freq \u001b[39m=\u001b[39m \u001b[39m\"\u001b[39m\u001b[39mD\u001b[39m\u001b[39m\"\u001b[39m\n\u001b[0;32m-> 1125\u001b[0m dtarr \u001b[39m=\u001b[39m DatetimeArray\u001b[39m.\u001b[39;49m_generate_range(\n\u001b[1;32m   1126\u001b[0m     start\u001b[39m=\u001b[39;49mstart,\n\u001b[1;32m   1127\u001b[0m     end\u001b[39m=\u001b[39;49mend,\n\u001b[1;32m   1128\u001b[0m     periods\u001b[39m=\u001b[39;49mperiods,\n\u001b[1;32m   1129\u001b[0m     freq\u001b[39m=\u001b[39;49mfreq,\n\u001b[1;32m   1130\u001b[0m     tz\u001b[39m=\u001b[39;49mtz,\n\u001b[1;32m   1131\u001b[0m     normalize\u001b[39m=\u001b[39;49mnormalize,\n\u001b[1;32m   1132\u001b[0m     inclusive\u001b[39m=\u001b[39;49minclusive,\n\u001b[1;32m   1133\u001b[0m     \u001b[39m*\u001b[39;49m\u001b[39m*\u001b[39;49mkwargs,\n\u001b[1;32m   1134\u001b[0m )\n\u001b[1;32m   1135\u001b[0m \u001b[39mreturn\u001b[39;00m DatetimeIndex\u001b[39m.\u001b[39m_simple_new(dtarr, name\u001b[39m=\u001b[39mname)\n",
      "File \u001b[0;32m/opt/homebrew/lib/python3.10/site-packages/pandas/core/arrays/datetimes.py:367\u001b[0m, in \u001b[0;36mDatetimeArray._generate_range\u001b[0;34m(cls, start, end, periods, freq, tz, normalize, ambiguous, nonexistent, inclusive)\u001b[0m\n\u001b[1;32m    364\u001b[0m     end \u001b[39m=\u001b[39m Timestamp(end)\n\u001b[1;32m    366\u001b[0m \u001b[39mif\u001b[39;00m start \u001b[39mis\u001b[39;00m NaT \u001b[39mor\u001b[39;00m end \u001b[39mis\u001b[39;00m NaT:\n\u001b[0;32m--> 367\u001b[0m     \u001b[39mraise\u001b[39;00m \u001b[39mValueError\u001b[39;00m(\u001b[39m\"\u001b[39m\u001b[39mNeither `start` nor `end` can be NaT\u001b[39m\u001b[39m\"\u001b[39m)\n\u001b[1;32m    369\u001b[0m left_inclusive, right_inclusive \u001b[39m=\u001b[39m validate_inclusive(inclusive)\n\u001b[1;32m    370\u001b[0m start, end, _normalized \u001b[39m=\u001b[39m _maybe_normalize_endpoints(start, end, normalize)\n",
      "\u001b[0;31mValueError\u001b[0m: Neither `start` nor `end` can be NaT"
     ]
    }
   ],
   "source": [
    "df = pd.DataFrame({'date': pd.date_range(min, max, freq='D')})"
   ]
  },
  {
   "cell_type": "code",
   "execution_count": null,
   "metadata": {},
   "outputs": [],
   "source": [
    "df = df.assign(amount=df['date'].map(mapping))\n",
    "df = df.fillna(0)"
   ]
  },
  {
   "cell_type": "code",
   "execution_count": 25,
   "metadata": {},
   "outputs": [
    {
     "data": {
      "image/png": "[encoded data removed]",
      "text/plain": [
       "<Figure size 1000x150 with 1 Axes>"
      ]
     },
     "metadata": {},
     "output_type": "display_data"
    }
   ],
   "source": [
    "\n",
    "ax = df.plot(kind=\"bar\", x=\"date\", y=\"amount\", figsize=(10,1.5), legend=False, rot=0)\n",
    "\n",
    "ax.set_title(\"Frequenz der veröffentlichten Artikel von Annette Kammerer\")\n",
    "\n",
    "ax.set_xticklabels(df['date'].dt.strftime('%d. %B'))\n",
    "\n",
    "ax.set_xlabel(\"Datum\")\n",
    "\n",
    "for i, t in enumerate(ax.get_xticklabels()):\n",
    "    if (i % 21) != 0:\n",
    "        t.set_visible(False)\n",
    "\n",
    "y_axis = ax.axes.get_yaxis()\n",
    "y_axis.set_visible(False)"
   ]
  }
 ],
 "metadata": {
  "kernelspec": {
   "display_name": "Python 3.10.8 64-bit",
   "language": "python",
   "name": "python3"
  },
  "language_info": {
   "codemirror_mode": {
    "name": "ipython",
    "version": 3
   },
   "file_extension": ".py",
   "mimetype": "text/x-python",
   "name": "python",
   "nbconvert_exporter": "python",
   "pygments_lexer": "ipython3",
   "version": "3.10.8 (main, Oct 13 2022, 09:48:40) [Clang 14.0.0 (clang-1400.0.29.102)]"
  },
  "orig_nbformat": 4,
  "vscode": {
   "interpreter": {
    "hash": "b0fa6594d8f4cbf19f97940f81e996739fb7646882a419484c72d19e05852a7e"
   }
  }
 },
 "nbformat": 4,
 "nbformat_minor": 2
}
