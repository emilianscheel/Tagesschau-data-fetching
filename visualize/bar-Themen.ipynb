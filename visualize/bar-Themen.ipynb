{
 "cells": [
  {
   "cell_type": "code",
   "execution_count": 1,
   "metadata": {},
   "outputs": [],
   "source": [
    "import numpy as np\n",
    "import pandas as pd\n",
    "import matplotlib.pyplot as plt\n",
    "\n",
    "df = pd.read_json('../data/database-27-10.json')"
   ]
  },
  {
   "cell_type": "code",
   "execution_count": 2,
   "metadata": {},
   "outputs": [],
   "source": [
    "data = []\n",
    "\n",
    "df['allTags'] = df['tags']# + df['geotags']\n",
    "\n",
    "for index, row in df.iterrows():\n",
    "    for tag1 in row['allTags']:\n",
    "        for tag2 in row['allTags']:\n",
    "            #data.append({tag: geotag})\n",
    "            if (tag1 != tag2 and tag1 != '(Keine Auswahl)' and tag2 != '(Keine Auswahl)'): data.append({'tag1': tag1, 'tag2': tag2, 'ressort': row['ressort']})\n",
    "\n",
    "    for tag1 in row['allTags']:\n",
    "        if (tag1 != '(Keine Auswahl)' and tag2 != '(Keine Auswahl)'): data.append({'tag1': tag1, 'tag2': row['ressort'], 'ressort': row['ressort']})\n",
    "\n",
    "df = pd.DataFrame(data)"
   ]
  },
  {
   "cell_type": "code",
   "execution_count": 3,
   "metadata": {},
   "outputs": [
    {
     "data": {
      "text/html": [
       "<div>\n",
       "<style scoped>\n",
       "    .dataframe tbody tr th:only-of-type {\n",
       "        vertical-align: middle;\n",
       "    }\n",
       "\n",
       "    .dataframe tbody tr th {\n",
       "        vertical-align: top;\n",
       "    }\n",
       "\n",
       "    .dataframe thead th {\n",
       "        text-align: right;\n",
       "    }\n",
       "</style>\n",
       "<table border=\"1\" class=\"dataframe\">\n",
       "  <thead>\n",
       "    <tr style=\"text-align: right;\">\n",
       "      <th></th>\n",
       "      <th>tag1</th>\n",
       "      <th>tag2</th>\n",
       "      <th>ressort</th>\n",
       "    </tr>\n",
       "  </thead>\n",
       "  <tbody>\n",
       "    <tr>\n",
       "      <th>0</th>\n",
       "      <td>Ukraine-Krieg</td>\n",
       "      <td>Selenskyj</td>\n",
       "      <td>ausland</td>\n",
       "    </tr>\n",
       "    <tr>\n",
       "      <th>1</th>\n",
       "      <td>Ukraine-Krieg</td>\n",
       "      <td>Entlassungen</td>\n",
       "      <td>ausland</td>\n",
       "    </tr>\n",
       "    <tr>\n",
       "      <th>2</th>\n",
       "      <td>Selenskyj</td>\n",
       "      <td>Ukraine-Krieg</td>\n",
       "      <td>ausland</td>\n",
       "    </tr>\n",
       "    <tr>\n",
       "      <th>3</th>\n",
       "      <td>Selenskyj</td>\n",
       "      <td>Entlassungen</td>\n",
       "      <td>ausland</td>\n",
       "    </tr>\n",
       "    <tr>\n",
       "      <th>4</th>\n",
       "      <td>Entlassungen</td>\n",
       "      <td>Ukraine-Krieg</td>\n",
       "      <td>ausland</td>\n",
       "    </tr>\n",
       "  </tbody>\n",
       "</table>\n",
       "</div>"
      ],
      "text/plain": [
       "            tag1           tag2  ressort\n",
       "0  Ukraine-Krieg      Selenskyj  ausland\n",
       "1  Ukraine-Krieg   Entlassungen  ausland\n",
       "2      Selenskyj  Ukraine-Krieg  ausland\n",
       "3      Selenskyj   Entlassungen  ausland\n",
       "4   Entlassungen  Ukraine-Krieg  ausland"
      ]
     },
     "execution_count": 3,
     "metadata": {},
     "output_type": "execute_result"
    }
   ],
   "source": [
    "df.head()"
   ]
  },
  {
   "cell_type": "code",
   "execution_count": null,
   "metadata": {},
   "outputs": [],
   "source": [
    "ax = df.plot(kind='barh',x='ressort', y='amount', label='absolute Anzahl der Artikel', figsize=(20,10), colormap='Paired')\n"
   ]
  }
 ],
 "metadata": {
  "kernelspec": {
   "display_name": "Python 3.10.8 64-bit",
   "language": "python",
   "name": "python3"
  },
  "language_info": {
   "codemirror_mode": {
    "name": "ipython",
    "version": 3
   },
   "file_extension": ".py",
   "mimetype": "text/x-python",
   "name": "python",
   "nbconvert_exporter": "python",
   "pygments_lexer": "ipython3",
   "version": "3.10.8"
  },
  "orig_nbformat": 4,
  "vscode": {
   "interpreter": {
    "hash": "b0fa6594d8f4cbf19f97940f81e996739fb7646882a419484c72d19e05852a7e"
   }
  }
 },
 "nbformat": 4,
 "nbformat_minor": 2
}
